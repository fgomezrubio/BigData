{
  "cells": [
    {
      "cell_type": "markdown",
      "source": [
        "##Instituto Tecnológico y de Estudios Superiores de Monterrey\n",
        "\n",
        "### Proyecto Base de Datos de Big Data Equipo 38\n",
        "\n",
        "- Salvador Hernández Medrano A01796607\n",
        "\n",
        "- Emmanuel Merida Toledo A01795858\n",
        "\n",
        "- Francisco Gómez Rubio A00710437\n",
        "\n",
        "- Josué Daniel Lescano López A01367234\n",
        "\n",
        "### Análisis de grandes volúmenes de datos\n",
        "\n",
        "4 de Mayo de 2025"
      ],
      "metadata": {
        "id": "Anlq5N-c23xu"
      },
      "id": "Anlq5N-c23xu"
    },
    {
      "metadata": {
        "id": "8a77807f92f26ee"
      },
      "cell_type": "markdown",
      "source": [
        "# Cryptocurrency 234 Coins Altcoins Prices\n",
        "\n",
        "El dataset contiene precios históricos de 234 criptomonedas (incluyendo Bitcoin y altcoins), con los siguientes campos para cada transacción:\n",
        "•\tOpen (precio de apertura)\n",
        "\n",
        "•\tHigh (precio máximo)\n",
        "\n",
        "•\tLow (precio mínimo)\n",
        "\n",
        "•\tClose (precio de cierre)\n",
        "\n",
        "•\tVolume (volumen operado)\n",
        "\n",
        "\n",
        "Estos datos están disponibles en diferentes marcos de tiempo: W1 (Semanal), D1 (Diaria), H4 (4 horas), H1 (1 hora), M30 (30 minutos), M15 (15 minutos) y M5 (cinco minutos).\n"
      ],
      "id": "8a77807f92f26ee"
    },
    {
      "metadata": {
        "ExecuteTime": {
          "end_time": "2025-05-03T04:37:32.172591Z",
          "start_time": "2025-05-03T04:37:32.169440Z"
        },
        "id": "fbc121e30a2defb3"
      },
      "cell_type": "code",
      "source": [
        "from pyspark.sql import SparkSession\n",
        "from pyspark.sql.functions import col,mean, avg, min, max, count, lit, round, concat_ws\n",
        "import pandas as pd"
      ],
      "id": "fbc121e30a2defb3",
      "outputs": [],
      "execution_count": 2
    },
    {
      "cell_type": "code",
      "source": [
        "from google.colab import drive\n",
        "drive.mount('/content/drive')"
      ],
      "metadata": {
        "id": "A0iZV2NIipyr",
        "colab": {
          "base_uri": "https://localhost:8080/"
        },
        "outputId": "61187e10-2daf-4910-911b-9c1eb06eae67"
      },
      "id": "A0iZV2NIipyr",
      "execution_count": 3,
      "outputs": [
        {
          "output_type": "stream",
          "name": "stdout",
          "text": [
            "Mounted at /content/drive\n"
          ]
        }
      ]
    },
    {
      "metadata": {
        "ExecuteTime": {
          "end_time": "2025-05-03T04:37:57.931605Z",
          "start_time": "2025-05-03T04:37:33.365737Z"
        },
        "id": "7bc17d5adab09584",
        "outputId": "82ce8722-f737-4888-ea94-1c5fa35b3d81",
        "colab": {
          "base_uri": "https://localhost:8080/"
        }
      },
      "cell_type": "code",
      "source": [
        "#lectura del archivo\n",
        "spark = SparkSession.builder.master(\"local[*]\").getOrCreate()\n",
        "df = spark.read.csv(\"/content/drive/MyDrive/BIG DATA/Proyecto 1/dataset.csv\", header=True, inferSchema=True)\n",
        "df.show()"
      ],
      "id": "7bc17d5adab09584",
      "outputs": [
        {
          "output_type": "stream",
          "name": "stdout",
          "text": [
            "+-------------------+--------+--------+--------+--------+---------+------+---------+\n",
            "|           datetime|    open|    high|     low|   close|   volume|  coin|frequency|\n",
            "+-------------------+--------+--------+--------+--------+---------+------+---------+\n",
            "|2017-07-14 05:00:00|    0.08|0.091033|    0.08|0.090993| 1942.057|ETHBTC|       D1|\n",
            "|2017-07-15 05:00:00|0.090993|0.093699|0.087127|0.087635| 4013.066|ETHBTC|       D1|\n",
            "|2017-07-16 05:00:00|0.087508|0.087635|0.075591|0.082241| 8904.158|ETHBTC|       D1|\n",
            "|2017-07-17 05:00:00|0.082368|0.088394|0.081699|0.087537| 6650.933|ETHBTC|       D1|\n",
            "|2017-07-18 05:00:00|0.087831|0.109068|0.084777|0.107732| 7245.741|ETHBTC|       D1|\n",
            "|2017-07-19 05:00:00|0.107732|0.108732| 0.08429|0.086853| 7384.976|ETHBTC|       D1|\n",
            "|2017-07-20 05:00:00|0.087144|0.095252|0.074982|0.080509|  6395.16|ETHBTC|       D1|\n",
            "|2017-07-21 05:00:00|0.080383|0.087511|0.079635|0.081581| 7434.389|ETHBTC|       D1|\n",
            "|2017-07-22 05:00:00|0.081586|0.084733|0.079856|0.082474| 7979.899|ETHBTC|       D1|\n",
            "|2017-07-23 05:00:00|0.082312| 0.08456|0.081417|0.083533| 6340.799|ETHBTC|       D1|\n",
            "|2017-07-24 05:00:00|0.083438|0.083973|0.082265|0.083161| 7380.244|ETHBTC|       D1|\n",
            "|2017-07-25 05:00:00|0.083149|0.083149|0.075482|0.079654| 7845.032|ETHBTC|       D1|\n",
            "|2017-07-26 05:00:00|0.079676|0.081172| 0.07761|0.079892| 7496.738|ETHBTC|       D1|\n",
            "|2017-07-27 05:00:00|0.079815|0.081867|0.077059|0.077449| 8311.206|ETHBTC|       D1|\n",
            "|2017-07-28 05:00:00|0.077059|0.077859|0.066827|0.068802|11013.824|ETHBTC|       D1|\n",
            "|2017-07-29 05:00:00|0.068797|0.076814|0.064335|0.075773|14305.369|ETHBTC|       D1|\n",
            "|2017-07-30 05:00:00|0.076009|0.076684|0.069876|0.070109|12989.765|ETHBTC|       D1|\n",
            "|2017-07-31 05:00:00|0.070406|0.073341| 0.06759|0.072484| 12029.45|ETHBTC|       D1|\n",
            "|2017-08-01 05:00:00|0.072459| 0.08526| 0.07237|0.083568|13623.227|ETHBTC|       D1|\n",
            "|2017-08-02 05:00:00|0.083568|0.084967| 0.07963| 0.08016| 13678.63|ETHBTC|       D1|\n",
            "+-------------------+--------+--------+--------+--------+---------+------+---------+\n",
            "only showing top 20 rows\n",
            "\n"
          ]
        }
      ],
      "execution_count": 4
    },
    {
      "metadata": {
        "ExecuteTime": {
          "end_time": "2025-05-02T05:37:05.011277Z",
          "start_time": "2025-05-02T05:36:54.003308Z"
        },
        "id": "2df5ad7e334566e",
        "outputId": "08d8344b-35ad-4578-dbb9-82e68bc5ffa9",
        "colab": {
          "base_uri": "https://localhost:8080/"
        }
      },
      "cell_type": "code",
      "source": [
        "#1. Caracterización de la población.\n",
        "\n",
        "#principales caracteriscticas de variables númericas\n",
        "numerical_stats = df.select(\n",
        "    mean(\"open\").alias(\"mean_open\"), avg(\"open\").alias(\"avg_open\"), min(\"open\").alias(\"min_open\"), max(\"open\").alias(\"max_open\"),\n",
        "    mean(\"high\").alias(\"mean_high\"), avg(\"high\").alias(\"avg_high\"), min(\"high\").alias(\"min_high\"), max(\"high\").alias(\"max_high\"),\n",
        "    mean(\"low\").alias(\"mean_low\"), avg(\"low\").alias(\"avg_low\"), min(\"low\").alias(\"min_low\"), max(\"low\").alias(\"max_low\"),\n",
        "    mean(\"close\").alias(\"mean_close\"), avg(\"close\").alias(\"avg_close\"), min(\"close\").alias(\"min_close\"), max(\"close\").alias(\"max_close\"),\n",
        "    mean(\"volume\").alias(\"mean_volume\"), avg(\"volume\").alias(\"avg_volume\"), min(\"volume\").alias(\"min_volume\"), max(\"volume\").alias(\"max_volume\")\n",
        ")\n",
        "\n",
        "numerical_stats.show(truncate=False,vertical=True)\n"
      ],
      "id": "2df5ad7e334566e",
      "outputs": [
        {
          "output_type": "stream",
          "name": "stdout",
          "text": [
            "-RECORD 0-------------------------\n",
            " mean_open   | 315.30808366873765 \n",
            " avg_open    | 315.30808366873765 \n",
            " min_open    | 6.56E-5            \n",
            " max_open    | 90877.82           \n",
            " mean_high   | 316.24911175329464 \n",
            " avg_high    | 316.24911175329464 \n",
            " min_high    | 6.63E-5            \n",
            " max_high    | 95000.0            \n",
            " mean_low    | 314.33606158631443 \n",
            " avg_low     | 314.33606158631443 \n",
            " min_low     | 6.55E-5            \n",
            " max_low     | 90211.0            \n",
            " mean_close  | 315.3110150076161  \n",
            " avg_close   | 315.3110150076161  \n",
            " min_close   | 6.56E-5            \n",
            " max_close   | 90912.32           \n",
            " mean_volume | 3781457.4590252754 \n",
            " avg_volume  | 3781457.4590252754 \n",
            " min_volume  | 0.0                \n",
            " max_volume  | 3.326897912677E12  \n",
            "\n"
          ]
        }
      ],
      "execution_count": 5
    },
    {
      "cell_type": "code",
      "source": [
        "total_count = df.count()\n",
        "\n",
        "# Frecuencia absoluta top 5 de 'coin'\n",
        "df.groupBy(\"coin\") \\\n",
        "  .count() \\\n",
        "  .withColumn(\"percentage\", round((col(\"count\") / total_count) * 100, 2)) \\\n",
        "  .orderBy(\"count\", ascending=False) \\\n",
        "  .limit(5) \\\n",
        "  .show(truncate=False)"
      ],
      "metadata": {
        "colab": {
          "base_uri": "https://localhost:8080/"
        },
        "id": "Ia-V8OVFap0I",
        "outputId": "4a0b24ee-fd3d-4cc3-c029-653920237072"
      },
      "id": "Ia-V8OVFap0I",
      "execution_count": 8,
      "outputs": [
        {
          "output_type": "stream",
          "name": "stdout",
          "text": [
            "+-------+-------+----------+\n",
            "|coin   |count  |percentage|\n",
            "+-------+-------+----------+\n",
            "|ETHBTC |1125355|0.9       |\n",
            "|BTCUSDT|1109604|0.89      |\n",
            "|ETHUSDT|1109604|0.89      |\n",
            "|BNBUSDT|1072225|0.86      |\n",
            "|NEOUSDT|1065744|0.85      |\n",
            "+-------+-------+----------+\n",
            "\n"
          ]
        }
      ]
    },
    {
      "cell_type": "code",
      "source": [
        "# Frecuencia absoluta top 5 de 'frequency'\n",
        "df.groupBy(\"frequency\").count().orderBy(\"count\", ascending=False).limit(5).show(truncate=False)"
      ],
      "metadata": {
        "colab": {
          "base_uri": "https://localhost:8080/"
        },
        "id": "OqV5230TatJf",
        "outputId": "17c8c5ea-2f5f-492f-a58a-3d8cf100c41d"
      },
      "id": "OqV5230TatJf",
      "execution_count": 7,
      "outputs": [
        {
          "output_type": "stream",
          "name": "stdout",
          "text": [
            "+---------+--------+\n",
            "|frequency|count   |\n",
            "+---------+--------+\n",
            "|M5       |77826095|\n",
            "|M15      |25942097|\n",
            "|M30      |12971381|\n",
            "|H1       |6486216 |\n",
            "|H4       |1622504 |\n",
            "+---------+--------+\n",
            "\n"
          ]
        }
      ]
    },
    {
      "metadata": {
        "ExecuteTime": {
          "end_time": "2025-05-02T05:37:22.920371Z",
          "start_time": "2025-05-02T05:37:05.020190Z"
        },
        "id": "b538a495f41da0bc",
        "outputId": "ea7b0e0c-cb7c-4d59-e142-5988249c2d7e",
        "colab": {
          "base_uri": "https://localhost:8080/"
        }
      },
      "cell_type": "code",
      "source": [
        "# las 5 monedas principales\n",
        "\n",
        "coin_counts = df.groupBy(\"coin\").count().orderBy(\"count\", ascending=False).limit(5).toPandas()\n",
        "coin_counts.columns = [\"coin\", \"coin_count\"]\n",
        "freq_counts = df.groupBy(\"frequency\").count().orderBy(\"count\", ascending=False).limit(5).toPandas()\n",
        "freq_counts.columns = [\"frequency\", \"freq_count\"]\n",
        "\n",
        "combined = pd.concat([coin_counts, freq_counts], axis=1)\n",
        "print(combined)"
      ],
      "id": "b538a495f41da0bc",
      "outputs": [
        {
          "output_type": "stream",
          "name": "stdout",
          "text": [
            "      coin  coin_count frequency  freq_count\n",
            "0   ETHBTC     1125355        M5    77826095\n",
            "1  BTCUSDT     1109604       M15    25942097\n",
            "2  ETHUSDT     1109604       M30    12971381\n",
            "3  BNBUSDT     1072225        H1     6486216\n",
            "4  NEOUSDT     1065744        H4     1622504\n"
          ]
        }
      ],
      "execution_count": 9
    },
    {
      "metadata": {
        "ExecuteTime": {
          "end_time": "2025-05-03T05:51:26.937463Z",
          "start_time": "2025-05-03T05:49:23.587818Z"
        },
        "id": "369301ae80996c50",
        "outputId": "448632b2-f075-4eab-a6ee-9c0f5c074514",
        "colab": {
          "base_uri": "https://localhost:8080/"
        }
      },
      "cell_type": "code",
      "source": [
        "#Particonamiento\n",
        "# Total de registros\n",
        "combinaciones = [\n",
        "    (\"ETHBTC\", \"M5\", 0.06),  # Combinación A -> a, B -> c\n",
        "    (\"BTCUSDT\", \"M15\", 0.24),  # Combinación A -> a, B -> d\n",
        "    (\"ETHUSDT\", \"M30\", 0.14),  # Combinación A -> b, B -> c\n",
        "    (\"BNBUSDT\", \"H1\", 0.56)   # Combinación A -> b, B -> d\n",
        "]\n",
        "\n",
        "# **7. Recuperar submuestras según las reglas de particionamiento**\n",
        "\n",
        "# Iterar sobre las combinaciones y filtrar los registros de acuerdo con las reglas definidas\n",
        "for comb in combinaciones:\n",
        "    a_value = comb[0]\n",
        "    b_value = comb[1]\n",
        "    probabilidad = comb[2]\n",
        "\n",
        "    # Filtrar el DataFrame según la combinación\n",
        "    particion = df.filter((col(\"coin\") == a_value) & (col(\"frequency\") == b_value))\n",
        "\n",
        "    # Mostrar la partición filtrada y su probabilidad\n",
        "    print(f\"Combinación: Coin = {a_value}, Frequency = {b_value}, Probabilidad = {probabilidad}\")\n",
        "    particion.show()\n",
        "\n",
        "    # Guardar la partición en un archivo CSV (opcional)\n",
        "    #particion.write.csv(f\"output_{a_value}_{b_value}\", header=True)"
      ],
      "id": "369301ae80996c50",
      "outputs": [
        {
          "output_type": "stream",
          "name": "stdout",
          "text": [
            "Combinación: Coin = ETHBTC, Frequency = M5, Probabilidad = 0.06\n",
            "+-------------------+--------+--------+--------+--------+------+------+---------+\n",
            "|           datetime|    open|    high|     low|   close|volume|  coin|frequency|\n",
            "+-------------------+--------+--------+--------+--------+------+------+---------+\n",
            "|2017-07-14 09:00:00|    0.08|    0.08|    0.08|    0.08| 0.726|ETHBTC|       M5|\n",
            "|2017-07-14 09:05:00|    0.08|0.080001|    0.08|0.080001| 3.347|ETHBTC|       M5|\n",
            "|2017-07-14 09:10:00|0.080001|  0.0864|0.080001|  0.0864| 4.679|ETHBTC|       M5|\n",
            "|2017-07-14 09:15:00|0.085289| 0.08562|0.085128|0.085128|53.431|ETHBTC|       M5|\n",
            "|2017-07-14 09:20:00|0.085274|   0.086|0.085274|   0.086| 5.576|ETHBTC|       M5|\n",
            "|2017-07-14 09:25:00| 0.08525|0.085811| 0.08525|0.085811| 2.035|ETHBTC|       M5|\n",
            "|2017-07-14 09:30:00|0.085811|   0.086|0.085811|   0.086|17.943|ETHBTC|       M5|\n",
            "|2017-07-14 09:35:00| 0.08618| 0.08618| 0.08618| 0.08618|18.237|ETHBTC|       M5|\n",
            "|2017-07-14 09:40:00| 0.08618| 0.08638| 0.08618|0.086314|17.589|ETHBTC|       M5|\n",
            "|2017-07-14 09:45:00|0.086314| 0.08635|0.086314| 0.08635|13.637|ETHBTC|       M5|\n",
            "|2017-07-14 09:50:00| 0.08635| 0.08638| 0.08635| 0.08638| 22.49|ETHBTC|       M5|\n",
            "|2017-07-14 09:55:00| 0.08638| 0.08638|0.086309|0.086347| 6.691|ETHBTC|       M5|\n",
            "|2017-07-14 10:00:00|0.085874|0.086205|0.085874|0.085978| 1.304|ETHBTC|       M5|\n",
            "|2017-07-14 10:05:00|0.085816|0.085816|0.084824|0.084824|  9.77|ETHBTC|       M5|\n",
            "|2017-07-14 10:10:00|0.084803|0.084803|0.084608| 0.08468| 5.446|ETHBTC|       M5|\n",
            "|2017-07-14 10:15:00|0.084581|0.086196|0.084581|0.086196| 8.833|ETHBTC|       M5|\n",
            "|2017-07-14 10:20:00| 0.08559| 0.08581|0.085496|0.085496| 4.461|ETHBTC|       M5|\n",
            "|2017-07-14 10:25:00|0.085496| 0.08585|0.085488| 0.08585|  8.85|ETHBTC|       M5|\n",
            "|2017-07-14 10:30:00| 0.08585| 0.08585|0.085824|0.085824|10.735|ETHBTC|       M5|\n",
            "|2017-07-14 10:35:00|0.085938|0.085938|0.085367|0.085367| 10.36|ETHBTC|       M5|\n",
            "+-------------------+--------+--------+--------+--------+------+------+---------+\n",
            "only showing top 20 rows\n",
            "\n",
            "Combinación: Coin = BTCUSDT, Frequency = M15, Probabilidad = 0.24\n",
            "+-------------------+-------+-------+-------+-------+---------+-------+---------+\n",
            "|           datetime|   open|   high|    low|  close|   volume|   coin|frequency|\n",
            "+-------------------+-------+-------+-------+-------+---------+-------+---------+\n",
            "|2017-08-17 09:00:00|4261.48|4280.56|4261.48|4261.48| 2.189061|BTCUSDT|      M15|\n",
            "|2017-08-17 09:15:00|4261.48|4270.41|4261.32|4261.45| 9.119865|BTCUSDT|      M15|\n",
            "|2017-08-17 09:30:00| 4280.0|4310.07|4267.99|4310.07|21.923552|BTCUSDT|      M15|\n",
            "|2017-08-17 09:45:00|4310.07|4313.62|4291.37|4308.83|13.948531|BTCUSDT|      M15|\n",
            "|2017-08-17 10:00:00|4308.83|4328.69|4304.31|4304.31| 5.101153|BTCUSDT|      M15|\n",
            "|2017-08-17 10:15:00| 4320.0| 4320.0|4312.14| 4320.0|15.947495|BTCUSDT|      M15|\n",
            "|2017-08-17 10:30:00| 4320.0| 4320.0|4291.37|4291.37| 2.155453|BTCUSDT|      M15|\n",
            "|2017-08-17 10:45:00|4297.04|4315.32|4297.04|4315.32| 0.030815|BTCUSDT|      M15|\n",
            "|2017-08-17 11:00:00|4330.29|4330.29|4318.39| 4330.0| 0.065364|BTCUSDT|      M15|\n",
            "|2017-08-17 11:15:00|4309.37|4330.29|4309.37|4311.02| 3.500913|BTCUSDT|      M15|\n",
            "|2017-08-17 11:30:00|4328.65|4345.45|4319.83|4345.45| 3.494176|BTCUSDT|      M15|\n",
            "|2017-08-17 11:45:00|4345.45|4345.45|4324.35|4324.35| 0.169238|BTCUSDT|      M15|\n",
            "|2017-08-17 12:00:00|4316.62|4316.62|4316.62|4316.62| 0.001541|BTCUSDT|      M15|\n",
            "|2017-08-17 12:15:00|4291.38|4291.38|4291.38|4291.38| 0.038918|BTCUSDT|      M15|\n",
            "|2017-08-17 12:30:00|4291.39| 4300.0|4291.39| 4300.0| 0.718901|BTCUSDT|      M15|\n",
            "|2017-08-17 12:45:00|4287.41|4349.99|4287.41|4349.99| 3.683889|BTCUSDT|      M15|\n",
            "|2017-08-17 13:00:00|4333.32|4377.85|4333.32|4360.71| 0.766417|BTCUSDT|      M15|\n",
            "|2017-08-17 13:15:00|4360.71|4360.71| 4360.7| 4360.7| 0.075843|BTCUSDT|      M15|\n",
            "|2017-08-17 13:30:00| 4360.7| 4360.7| 4360.0|4360.69| 0.099262|BTCUSDT|      M15|\n",
            "|2017-08-17 13:45:00| 4360.7| 4360.7|4360.69|4360.69| 0.031285|BTCUSDT|      M15|\n",
            "+-------------------+-------+-------+-------+-------+---------+-------+---------+\n",
            "only showing top 20 rows\n",
            "\n",
            "Combinación: Coin = ETHUSDT, Frequency = M30, Probabilidad = 0.14\n",
            "+-------------------+------+------+------+------+---------+-------+---------+\n",
            "|           datetime|  open|  high|   low| close|   volume|   coin|frequency|\n",
            "+-------------------+------+------+------+------+---------+-------+---------+\n",
            "|2017-08-17 09:00:00|301.13|301.13| 298.0|299.39| 37.24232|ETHUSDT|      M30|\n",
            "|2017-08-17 09:30:00|299.39|302.57|299.39|301.61| 88.42645|ETHUSDT|      M30|\n",
            "|2017-08-17 10:00:00|301.61|303.28| 300.0|302.21|231.80622|ETHUSDT|      M30|\n",
            "|2017-08-17 10:30:00|302.21|303.28|302.08| 303.1|145.86624|ETHUSDT|      M30|\n",
            "|2017-08-17 11:00:00| 302.4|303.71|302.02|303.11|117.26475|ETHUSDT|      M30|\n",
            "|2017-08-17 11:30:00|303.11|304.44| 301.9|302.68|186.60197|ETHUSDT|      M30|\n",
            "|2017-08-17 12:00:00|302.68|304.97| 302.6|304.61|437.24741|ETHUSDT|      M30|\n",
            "|2017-08-17 12:30:00|304.61|307.96|304.53|307.96|317.49769|ETHUSDT|      M30|\n",
            "|2017-08-17 13:00:00|307.95|309.77| 307.0|309.77| 95.56669|ETHUSDT|      M30|\n",
            "|2017-08-17 13:30:00|309.77|309.97|307.86|308.62|  55.1836|ETHUSDT|      M30|\n",
            "|2017-08-17 14:00:00|308.62|311.46|308.62|311.46|172.22652|ETHUSDT|      M30|\n",
            "|2017-08-17 14:30:00|309.89| 312.0|309.29| 310.0|297.05227|ETHUSDT|      M30|\n",
            "|2017-08-17 15:00:00| 310.0|310.62|308.54|309.22|113.72683|ETHUSDT|      M30|\n",
            "|2017-08-17 15:30:00|309.22|310.97|309.22| 309.3|170.66457|ETHUSDT|      M30|\n",
            "|2017-08-17 16:00:00| 308.3| 310.4|307.78| 310.4|148.66897|ETHUSDT|      M30|\n",
            "|2017-08-17 16:30:00| 310.4|310.68|308.39|308.95|124.62143|ETHUSDT|      M30|\n",
            "|2017-08-17 17:00:00|308.95|310.51|307.98|308.76|204.92269|ETHUSDT|      M30|\n",
            "|2017-08-17 17:30:00|308.62|308.62|308.03|308.62|196.87009|ETHUSDT|      M30|\n",
            "|2017-08-17 18:00:00|308.62|309.72|308.45|309.52|117.01896|ETHUSDT|      M30|\n",
            "|2017-08-17 18:30:00|309.52|309.52|307.77| 309.4|193.56146|ETHUSDT|      M30|\n",
            "+-------------------+------+------+------+------+---------+-------+---------+\n",
            "only showing top 20 rows\n",
            "\n",
            "Combinación: Coin = BNBUSDT, Frequency = H1, Probabilidad = 0.56\n",
            "+-------------------+------+------+------+------+--------+-------+---------+\n",
            "|           datetime|  open|  high|   low| close|  volume|   coin|frequency|\n",
            "+-------------------+------+------+------+------+--------+-------+---------+\n",
            "|2017-11-06 09:00:00|   1.5| 1.799|   0.5|   1.7|  649.12|BNBUSDT|       H1|\n",
            "|2017-11-06 10:00:00|   1.3|  1.65|   1.3|1.6479| 8147.72|BNBUSDT|       H1|\n",
            "|2017-11-06 11:00:00|1.5457|1.5525|1.5455|1.5458|  6628.2|BNBUSDT|       H1|\n",
            "|2017-11-06 12:00:00|1.5458| 1.681|1.5387| 1.681| 22767.9|BNBUSDT|       H1|\n",
            "|2017-11-06 13:00:00|1.6809|1.6809|   1.6| 1.625|14938.73|BNBUSDT|       H1|\n",
            "|2017-11-06 14:00:00|1.6011|1.6379| 1.601|1.6378| 5888.89|BNBUSDT|       H1|\n",
            "|2017-11-06 15:00:00| 1.602|1.6366|  1.58|1.6366| 6643.14|BNBUSDT|       H1|\n",
            "|2017-11-06 16:00:00| 1.601|1.6479|   1.6|1.6479| 4885.62|BNBUSDT|       H1|\n",
            "|2017-11-06 17:00:00|1.6479| 1.676|1.6288|1.6288| 4324.77|BNBUSDT|       H1|\n",
            "|2017-11-06 18:00:00|1.6288|1.6288|1.5803|1.5804| 5834.38|BNBUSDT|       H1|\n",
            "|2017-11-06 19:00:00|   1.6|   1.6|1.5804|   1.6|  489.15|BNBUSDT|       H1|\n",
            "|2017-11-06 20:00:00|1.5805|  1.61|1.5645|  1.61| 9040.61|BNBUSDT|       H1|\n",
            "|2017-11-06 21:00:00|1.6098|1.6148|1.5908|1.6148| 6822.39|BNBUSDT|       H1|\n",
            "|2017-11-06 22:00:00|1.6148| 1.631|1.6148|1.6148| 1957.74|BNBUSDT|       H1|\n",
            "|2017-11-06 23:00:00|1.6108| 1.627|  1.57|1.5829| 5646.76|BNBUSDT|       H1|\n",
            "|2017-11-07 00:00:00|1.5868|1.6028|1.5645|1.5908|  909.99|BNBUSDT|       H1|\n",
            "|2017-11-07 01:00:00|1.6028|1.6028| 1.571|1.5868| 3255.32|BNBUSDT|       H1|\n",
            "|2017-11-07 02:00:00|1.5948| 1.598|1.5763|1.5789| 2629.14|BNBUSDT|       H1|\n",
            "|2017-11-07 03:00:00|1.5711|1.5868| 1.556| 1.571| 1707.62|BNBUSDT|       H1|\n",
            "|2017-11-07 04:00:00|1.5789|1.5868|  1.55|1.5631| 4534.05|BNBUSDT|       H1|\n",
            "+-------------------+------+------+------+------+--------+-------+---------+\n",
            "only showing top 20 rows\n",
            "\n"
          ]
        }
      ],
      "execution_count": 7
    }
  ],
  "metadata": {
    "kernelspec": {
      "display_name": "Python 3",
      "language": "python",
      "name": "python3"
    },
    "language_info": {
      "codemirror_mode": {
        "name": "ipython",
        "version": 2
      },
      "file_extension": ".py",
      "mimetype": "text/x-python",
      "name": "python",
      "nbconvert_exporter": "python",
      "pygments_lexer": "ipython2",
      "version": "2.7.6"
    },
    "colab": {
      "provenance": []
    }
  },
  "nbformat": 4,
  "nbformat_minor": 5
}